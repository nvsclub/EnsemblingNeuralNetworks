{
 "cells": [
  {
   "cell_type": "code",
   "execution_count": null,
   "metadata": {},
   "outputs": [],
   "source": [
    "import torch\n",
    "import torch.nn as nn\n",
    "import optuna\n",
    "\n",
    "from lib.glob_fix import glob\n",
    "from tqdm import tqdm\n",
    "\n",
    "import pandas as pd\n",
    "import numpy as np\n",
    "from sklearn.model_selection import KFold, train_test_split\n",
    "\n",
    "from lib.models import BaseLearnerRegression, cyclic_cosine_annealing_lr"
   ]
  },
  {
   "cell_type": "code",
   "execution_count": null,
   "metadata": {},
   "outputs": [],
   "source": [
    "N_SPLITS = 3"
   ]
  },
  {
   "cell_type": "code",
   "execution_count": null,
   "metadata": {},
   "outputs": [],
   "source": [
    "def objective(trial):\n",
    "    # Hyperparameters to optimize: 2 hidden layers, 1e-3 < lr < 1e-1, 50 < epochs < 100\n",
    "    loss_function = nn.MSELoss()\n",
    "    models = {}\n",
    "    for i in range(4):\n",
    "        models[f'm{i}_'] = {\n",
    "            'hidden_sizes': [trial.suggest_categorical(f'm{i}_n_units_l1', [2 ** i for i in range(4, 9)]), trial.suggest_categorical(f'm{i}_n_units_l2', [2 ** i for i in range(4, 9)])],\n",
    "            'activation': trial.suggest_categorical(f'm{i}_activation', ['relu', 'sigmoid', 'tanh']),\n",
    "            'lr': trial.suggest_float(f'm{i}_lr', 1e-3, 1e-1),\n",
    "            'epochs': 10 #trial.suggest_int(f'm{i}_epochs', 50, 100) # We have since fixed the #epochs to 10 due to snapshot\n",
    "        }\n",
    "\n",
    "    # Load the data\n",
    "    global_loss = 0\n",
    "    trial_model_selectors = []\n",
    "    for fname in glob('data/train-datasets/*.csv'):\n",
    "        df = pd.read_csv(fname)\n",
    "\n",
    "        # Divide the data into 3 folds\n",
    "        kf = KFold(n_splits=N_SPLITS, shuffle=True, random_state=42)\n",
    "\n",
    "        # Define the hyperparameters to optimize\n",
    "        fold_id = 0\n",
    "        for train_idx, test_idx in kf.split(df):\n",
    "            train_set = df.iloc[train_idx]\n",
    "\n",
    "            input_size = train_set.shape[1] - 1\n",
    "\n",
    "            losses = []\n",
    "            for mk in models.keys():\n",
    "                model = BaseLearnerRegression(input_size, models[mk]['hidden_sizes'], models[mk]['activation'], loss_function, lr=models[mk]['lr'])\n",
    "                model.setup_data_loaders(train_set, validation_size=0.3)\n",
    "                for epoch in range(models[mk]['epochs']):\n",
    "                    lr_update = cyclic_cosine_annealing_lr(model.lr, 10, 0, epoch)\n",
    "                    model.train(1, lr_update=lr_update)\n",
    "                val_loss = model.evaluate()\n",
    "                losses.append(val_loss)\n",
    "\n",
    "            trial_model_selectors.append({'dataset': fname, 'fold': fold_id, 'model': f'm{np.argmin(losses)}_'})\n",
    "\n",
    "            global_loss += np.min(losses)\n",
    "            fold_id += 1\n",
    "\n",
    "    # Save the model selectors\n",
    "    pd.DataFrame(trial_model_selectors).to_csv(f'results/trials/{trial.number}.csv', index=False)\n",
    "\n",
    "    return global_loss"
   ]
  },
  {
   "cell_type": "code",
   "execution_count": null,
   "metadata": {},
   "outputs": [],
   "source": [
    "N_SPLITS = 3\n",
    "N_TRIALS = 100\n",
    "\n",
    "# Define the study\n",
    "study = optuna.create_study(direction='minimize')\n",
    "study.optimize(objective, n_trials=N_TRIALS)\n",
    "study.trials_dataframe().to_csv('results/parameter_search_results.csv', index=False)"
   ]
  }
 ],
 "metadata": {
  "kernelspec": {
   "display_name": "Python 3",
   "language": "python",
   "name": "python3"
  },
  "language_info": {
   "codemirror_mode": {
    "name": "ipython",
    "version": 3
   },
   "file_extension": ".py",
   "mimetype": "text/x-python",
   "name": "python",
   "nbconvert_exporter": "python",
   "pygments_lexer": "ipython3",
   "version": "3.9.13"
  },
  "orig_nbformat": 4
 },
 "nbformat": 4,
 "nbformat_minor": 2
}
